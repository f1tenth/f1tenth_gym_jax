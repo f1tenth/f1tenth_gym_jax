{
 "cells": [
  {
   "cell_type": "code",
   "execution_count": 1,
   "metadata": {},
   "outputs": [],
   "source": [
    "import os\n",
    "os.environ[\"XLA_PYTHON_CLIENT_PREALLOCATE\"] = \"false\"\n",
    "\n",
    "from f1tenth_gym_jax import make\n",
    "import jax\n",
    "import jax.numpy as jnp\n",
    "\n",
    "# jax.config.update(\"jax_debug_nans\", True)\n",
    "\n",
    "from f1tenth_gym_jax.envs.utils import Param"
   ]
  },
  {
   "cell_type": "code",
   "execution_count": 2,
   "metadata": {},
   "outputs": [],
   "source": [
    "num_agents = 10\n",
    "num_envs = 100"
   ]
  },
  {
   "cell_type": "code",
   "execution_count": 3,
   "metadata": {},
   "outputs": [],
   "source": [
    "env = make(f\"Spielberg_{num_agents}_noscan_time_v0\")"
   ]
  },
  {
   "cell_type": "code",
   "execution_count": 4,
   "metadata": {},
   "outputs": [],
   "source": [
    "rng = jax.random.PRNGKey(0)\n",
    "rng, _rng = jax.random.split(rng)\n",
    "reset_rng = jax.random.split(_rng, num_envs)"
   ]
  },
  {
   "cell_type": "code",
   "execution_count": 5,
   "metadata": {},
   "outputs": [],
   "source": [
    "import chex\n",
    "chex.clear_trace_counter()"
   ]
  },
  {
   "cell_type": "code",
   "execution_count": 6,
   "metadata": {},
   "outputs": [
    {
     "name": "stderr",
     "output_type": "stream",
     "text": [
      "/home/billyzheng/.cache/pypoetry/virtualenvs/f1tenth-gym-jax-3S11c-Oo-py3.13/lib/python3.13/site-packages/jax/_src/numpy/array_methods.py:122: UserWarning: Explicitly requested dtype float64 requested in astype is not available, and will be truncated to dtype float32. To enable more dtypes, set the jax_enable_x64 configuration option or the JAX_ENABLE_X64 shell environment variable. See https://github.com/jax-ml/jax#current-gotchas for more.\n",
      "  return lax_numpy.astype(self, dtype, copy=copy, device=device)\n",
      "/home/billyzheng/.cache/pypoetry/virtualenvs/f1tenth-gym-jax-3S11c-Oo-py3.13/lib/python3.13/site-packages/jax/_src/numpy/array_creation.py:532: UserWarning: Explicitly requested dtype float64 requested in array is not available, and will be truncated to dtype float32. To enable more dtypes, set the jax_enable_x64 configuration option or the JAX_ENABLE_X64 shell environment variable. See https://github.com/jax-ml/jax#current-gotchas for more.\n",
      "  delta: Array = lax.convert_element_type(stop - start, computation_dtype) / jax.numpy.array(div, dtype=computation_dtype)\n",
      "/home/billyzheng/.cache/pypoetry/virtualenvs/f1tenth-gym-jax-3S11c-Oo-py3.13/lib/python3.13/site-packages/jax/_src/numpy/array_creation.py:538: UserWarning: Explicitly requested dtype float64 requested in array is not available, and will be truncated to dtype float32. To enable more dtypes, set the jax_enable_x64 configuration option or the JAX_ENABLE_X64 shell environment variable. See https://github.com/jax-ml/jax#current-gotchas for more.\n",
      "  step = lax.iota(real_dtype, div).reshape(iota_shape) / jax.numpy.array(div, real_dtype)\n"
     ]
    }
   ],
   "source": [
    "obsv, env_state = jax.vmap(env.reset)(reset_rng)"
   ]
  },
  {
   "cell_type": "code",
   "execution_count": 7,
   "metadata": {},
   "outputs": [],
   "source": [
    "rng, _rng = jax.random.split(rng)\n",
    "action_rng = jax.random.split(_rng, num_envs*num_agents).reshape((num_agents, num_envs, -1))\n",
    "actions = {k: jax.vmap(env.action_space(k).sample)(action_rng[i]) for i, k in enumerate(env.agents)}"
   ]
  },
  {
   "cell_type": "code",
   "execution_count": 8,
   "metadata": {},
   "outputs": [],
   "source": [
    "rng, _rng = jax.random.split(rng)\n",
    "step_rng = jax.random.split(_rng, num_envs)\n",
    "obsv, env_state, _, _, info = jax.vmap(env.step)(step_rng, env_state, actions)"
   ]
  },
  {
   "cell_type": "code",
   "execution_count": 9,
   "metadata": {},
   "outputs": [],
   "source": [
    "def env_init(rng):\n",
    "    rng, _rng = jax.random.split(rng)\n",
    "    reset_rng = jax.random.split(_rng, num_envs)\n",
    "    obsv, env_state = jax.vmap(env.reset)(reset_rng)\n",
    "    return (env_state, obsv, rng)"
   ]
  },
  {
   "cell_type": "code",
   "execution_count": 10,
   "metadata": {},
   "outputs": [],
   "source": [
    "def env_step(runner_state, unused):\n",
    "    env_state, last_obs, rng = runner_state\n",
    "\n",
    "    rng, _rng = jax.random.split(rng)\n",
    "    action_rng = jax.random.split(_rng, num_envs*num_agents).reshape((num_agents, num_envs, -1))\n",
    "    actions = {k: jax.vmap(env.action_space(k).sample)(action_rng[i]) for i, k in enumerate(env.agents)}\n",
    "\n",
    "    rng, _rng = jax.random.split(rng)\n",
    "    step_rng = jax.random.split(_rng, num_envs)\n",
    "    obsv, env_state, _, _, info = jax.vmap(env.step)(step_rng, env_state, actions)\n",
    "\n",
    "    runner_state = (env_state, obsv, rng)\n",
    "    return runner_state, None"
   ]
  },
  {
   "cell_type": "code",
   "execution_count": 11,
   "metadata": {},
   "outputs": [],
   "source": [
    "import time"
   ]
  },
  {
   "cell_type": "code",
   "execution_count": 19,
   "metadata": {},
   "outputs": [],
   "source": [
    "tick = time.time()\n",
    "for _ in range(100):\n",
    "    runner_state = env_init(rng)\n",
    "    runner_state = jax.lax.scan(env_step, runner_state, None, length=100)\n",
    "tock = time.time()"
   ]
  },
  {
   "cell_type": "code",
   "execution_count": 20,
   "metadata": {},
   "outputs": [],
   "source": [
    "sps = 100 * 100 * num_envs / (tock - tick)"
   ]
  },
  {
   "cell_type": "code",
   "execution_count": 21,
   "metadata": {},
   "outputs": [
    {
     "data": {
      "text/plain": [
       "389312.88286272186"
      ]
     },
     "execution_count": 21,
     "metadata": {},
     "output_type": "execute_result"
    }
   ],
   "source": [
    "sps"
   ]
  },
  {
   "cell_type": "code",
   "execution_count": 15,
   "metadata": {},
   "outputs": [],
   "source": [
    "env_states_all = runner_state[0]"
   ]
  },
  {
   "cell_type": "code",
   "execution_count": 16,
   "metadata": {},
   "outputs": [
    {
     "data": {
      "text/plain": [
       "(100, 10, 7)"
      ]
     },
     "execution_count": 16,
     "metadata": {},
     "output_type": "execute_result"
    }
   ],
   "source": [
    "env_states_all[0].cartesian_states.shape"
   ]
  },
  {
   "cell_type": "code",
   "execution_count": 17,
   "metadata": {},
   "outputs": [
    {
     "data": {
      "text/plain": [
       "Array([[-4.47607460e+01,  5.96546221e+00,  4.16736491e-03,\n",
       "         9.29239690e-01,  1.35691687e-02,  1.13936812e-02,\n",
       "         2.16382928e-03],\n",
       "       [-4.57358360e+01,  7.20031309e+00,  1.52352184e-01,\n",
       "        -3.66084665e-01,  7.18892505e-03,  5.78520708e-02,\n",
       "         7.95554668e-02],\n",
       "       [-4.63223343e+01,  7.58925056e+00, -3.18057597e-01,\n",
       "        -7.71217644e-01, -7.43347045e-04,  7.21947372e-01,\n",
       "        -1.69249579e-01],\n",
       "       [-4.67839165e+01,  8.85327530e+00,  3.83552045e-01,\n",
       "         6.31313205e-01,  1.13422282e-01,  7.83432782e-01,\n",
       "         2.06530556e-01],\n",
       "       [-4.73457489e+01,  9.21814823e+00, -2.10523978e-01,\n",
       "         2.81351954e-01, -3.37884538e-02, -1.87121302e-01,\n",
       "        -1.10502593e-01],\n",
       "       [-4.80264587e+01,  1.04817619e+01,  3.07539195e-01,\n",
       "        -5.47583461e-01,  1.06744992e-03, -2.48607427e-01,\n",
       "         1.63349226e-01],\n",
       "       [-4.82747955e+01,  1.08801117e+01, -2.34946996e-01,\n",
       "         7.81077147e-01, -1.17579065e-01, -5.45244932e-01,\n",
       "        -1.23652950e-01],\n",
       "       [-4.90437012e+01,  1.22029495e+01,  3.99269789e-01,\n",
       "        -3.11822057e-01,  2.41530710e-03, -3.32004666e-01,\n",
       "         2.15541497e-01],\n",
       "       [-4.93121109e+01,  1.26386824e+01, -6.83731437e-02,\n",
       "         2.81768590e-01, -4.36105654e-02, -9.45953727e-02,\n",
       "        -3.55419070e-02],\n",
       "       [-5.00026970e+01,  1.39584017e+01,  1.74709156e-01,\n",
       "        -7.94317305e-01,  4.22876212e-04, -3.16184700e-01,\n",
       "         9.13934261e-02]], dtype=float32)"
      ]
     },
     "execution_count": 17,
     "metadata": {},
     "output_type": "execute_result"
    }
   ],
   "source": [
    "env_states_all[0].cartesian_states[100, :, :]"
   ]
  },
  {
   "cell_type": "code",
   "execution_count": 18,
   "metadata": {},
   "outputs": [
    {
     "data": {
      "text/plain": [
       "[<matplotlib.lines.Line2D at 0x7f56ac0ebd90>]"
      ]
     },
     "execution_count": 18,
     "metadata": {},
     "output_type": "execute_result"
    },
    {
     "data": {
      "image/png": "[encoded data removed]",
      "text/plain": [
       "<Figure size 640x480 with 1 Axes>"
      ]
     },
     "metadata": {},
     "output_type": "display_data"
    }
   ],
   "source": [
    "import matplotlib.pyplot as plt\n",
    "plt.plot(env_states_all[0].cartesian_states[:, 0, 0], env_states_all[0].cartesian_states[:, 0, 1], 'o')"
   ]
  },
  {
   "cell_type": "code",
   "execution_count": null,
   "metadata": {},
   "outputs": [],
   "source": []
  }
 ],
 "metadata": {
  "kernelspec": {
   "display_name": "f1tenth-gym-jax-3S11c-Oo-py3.13",
   "language": "python",
   "name": "python3"
  },
  "language_info": {
   "codemirror_mode": {
    "name": "ipython",
    "version": 3
   },
   "file_extension": ".py",
   "mimetype": "text/x-python",
   "name": "python",
   "nbconvert_exporter": "python",
   "pygments_lexer": "ipython3",
   "version": "3.13.5"
  }
 },
 "nbformat": 4,
 "nbformat_minor": 2
}
