{
 "cells": [
  {
   "cell_type": "code",
   "execution_count": 1,
   "metadata": {},
   "outputs": [],
   "source": [
    "import os\n",
    "os.environ[\"XLA_PYTHON_CLIENT_PREALLOCATE\"] = \"false\"\n",
    "\n",
    "from f1tenth_gym_jax import make\n",
    "import jax\n",
    "import jax.numpy as jnp\n",
    "\n",
    "# jax.config.update(\"jax_debug_nans\", True)\n",
    "\n",
    "from f1tenth_gym_jax.envs.utils import Param"
   ]
  },
  {
   "cell_type": "code",
   "execution_count": 2,
   "metadata": {},
   "outputs": [],
   "source": [
    "num_agents = 10\n",
    "num_envs = 100"
   ]
  },
  {
   "cell_type": "code",
   "execution_count": 3,
   "metadata": {},
   "outputs": [],
   "source": [
    "env = make(f\"Spielberg_{num_agents}_scan_time_v0\")"
   ]
  },
  {
   "cell_type": "code",
   "execution_count": 4,
   "metadata": {},
   "outputs": [],
   "source": [
    "rng = jax.random.PRNGKey(0)\n",
    "rng, _rng = jax.random.split(rng)\n",
    "reset_rng = jax.random.split(_rng, num_envs)"
   ]
  },
  {
   "cell_type": "code",
   "execution_count": 5,
   "metadata": {},
   "outputs": [],
   "source": [
    "import chex\n",
    "chex.clear_trace_counter()"
   ]
  },
  {
   "cell_type": "code",
   "execution_count": 6,
   "metadata": {},
   "outputs": [
    {
     "name": "stderr",
     "output_type": "stream",
     "text": [
      "/home/billyzheng/.cache/pypoetry/virtualenvs/f1tenth-gym-jax-3S11c-Oo-py3.13/lib/python3.13/site-packages/jax/_src/numpy/array_methods.py:122: UserWarning: Explicitly requested dtype float64 requested in astype is not available, and will be truncated to dtype float32. To enable more dtypes, set the jax_enable_x64 configuration option or the JAX_ENABLE_X64 shell environment variable. See https://github.com/jax-ml/jax#current-gotchas for more.\n",
      "  return lax_numpy.astype(self, dtype, copy=copy, device=device)\n",
      "/home/billyzheng/.cache/pypoetry/virtualenvs/f1tenth-gym-jax-3S11c-Oo-py3.13/lib/python3.13/site-packages/jax/_src/numpy/array_creation.py:532: UserWarning: Explicitly requested dtype float64 requested in array is not available, and will be truncated to dtype float32. To enable more dtypes, set the jax_enable_x64 configuration option or the JAX_ENABLE_X64 shell environment variable. See https://github.com/jax-ml/jax#current-gotchas for more.\n",
      "  delta: Array = lax.convert_element_type(stop - start, computation_dtype) / jax.numpy.array(div, dtype=computation_dtype)\n",
      "/home/billyzheng/.cache/pypoetry/virtualenvs/f1tenth-gym-jax-3S11c-Oo-py3.13/lib/python3.13/site-packages/jax/_src/numpy/array_creation.py:538: UserWarning: Explicitly requested dtype float64 requested in array is not available, and will be truncated to dtype float32. To enable more dtypes, set the jax_enable_x64 configuration option or the JAX_ENABLE_X64 shell environment variable. See https://github.com/jax-ml/jax#current-gotchas for more.\n",
      "  step = lax.iota(real_dtype, div).reshape(iota_shape) / jax.numpy.array(div, real_dtype)\n"
     ]
    }
   ],
   "source": [
    "obsv, env_state = jax.vmap(env.reset)(reset_rng)"
   ]
  },
  {
   "cell_type": "code",
   "execution_count": 7,
   "metadata": {},
   "outputs": [],
   "source": [
    "rng, _rng = jax.random.split(rng)\n",
    "action_rng = jax.random.split(_rng, num_envs*num_agents).reshape((num_agents, num_envs, -1))\n",
    "actions = {k: jax.vmap(env.action_space(k).sample)(action_rng[i]) for i, k in enumerate(env.agents)}"
   ]
  },
  {
   "cell_type": "code",
   "execution_count": 8,
   "metadata": {},
   "outputs": [],
   "source": [
    "rng, _rng = jax.random.split(rng)\n",
    "step_rng = jax.random.split(_rng, num_envs)\n",
    "obsv, env_state, _, _, info = jax.vmap(env.step)(step_rng, env_state, actions)"
   ]
  },
  {
   "cell_type": "code",
   "execution_count": 9,
   "metadata": {},
   "outputs": [],
   "source": [
    "def env_init(rng):\n",
    "    rng, _rng = jax.random.split(rng)\n",
    "    reset_rng = jax.random.split(_rng, num_envs)\n",
    "    obsv, env_state = jax.vmap(env.reset)(reset_rng)\n",
    "    return (env_state, obsv, rng)"
   ]
  },
  {
   "cell_type": "code",
   "execution_count": null,
   "metadata": {},
   "outputs": [],
   "source": [
    "def env_step(runner_state, unused):\n",
    "    env_state, last_obs, rng = runner_state\n",
    "\n",
    "    rng, _rng = jax.random.split(rng)\n",
    "    action_rng = jax.random.split(_rng, num_envs*num_agents).reshape((num_agents, num_envs, -1))\n",
    "    actions = {k: jax.vmap(env.action_space(k).sample)(action_rng[i]) for i, k in enumerate(env.agents)}\n",
    "\n",
    "    rng, _rng = jax.random.split(rng)\n",
    "    step_rng = jax.random.split(_rng, num_envs)\n",
    "    obsv, env_state, _, _, info = jax.vmap(env.step)(step_rng, env_state, actions)\n",
    "\n",
    "    runner_state = (env_state, obsv, rng)\n",
    "    return runner_state, env_state"
   ]
  },
  {
   "cell_type": "code",
   "execution_count": 11,
   "metadata": {},
   "outputs": [],
   "source": [
    "import time"
   ]
  },
  {
   "cell_type": "code",
   "execution_count": 18,
   "metadata": {},
   "outputs": [],
   "source": [
    "tick = time.time()\n",
    "for _ in range(100):\n",
    "    runner_state = env_init(rng)\n",
    "    runner_state, all_env_states = jax.lax.scan(env_step, runner_state, None, length=100)\n",
    "tock = time.time()"
   ]
  },
  {
   "cell_type": "code",
   "execution_count": 19,
   "metadata": {},
   "outputs": [],
   "source": [
    "sps = 100 * 100 * num_envs / (tock - tick)"
   ]
  },
  {
   "cell_type": "code",
   "execution_count": 20,
   "metadata": {},
   "outputs": [
    {
     "data": {
      "text/plain": [
       "21426.164899802825"
      ]
     },
     "execution_count": 20,
     "metadata": {},
     "output_type": "execute_result"
    }
   ],
   "source": [
    "sps"
   ]
  },
  {
   "cell_type": "code",
   "execution_count": 21,
   "metadata": {},
   "outputs": [
    {
     "data": {
      "text/plain": [
       "(100, 100, 10, 7)"
      ]
     },
     "execution_count": 21,
     "metadata": {},
     "output_type": "execute_result"
    }
   ],
   "source": [
    "all_env_states.cartesian_states.shape"
   ]
  },
  {
   "cell_type": "code",
   "execution_count": 22,
   "metadata": {},
   "outputs": [
    {
     "data": {
      "text/plain": [
       "Array([[-4.51608696e+01,  5.96198368e+00, -2.24437881e-02,\n",
       "         6.76888460e-03, -1.53370570e-06, -4.71457344e-04,\n",
       "        -1.16549339e-02],\n",
       "       [-4.51607780e+01,  5.96198177e+00, -5.44437915e-02,\n",
       "         1.12162493e-02, -1.23664749e-05, -1.86176633e-03,\n",
       "        -2.82893069e-02],\n",
       "       [-4.51607323e+01,  5.96198034e+00, -5.56205027e-02,\n",
       "        -3.87401599e-03, -1.98128364e-05,  6.38730708e-04,\n",
       "        -2.89016441e-02],\n",
       "       [-4.51605072e+01,  5.96197605e+00, -2.50002220e-02,\n",
       "         4.69935238e-02, -4.35767033e-05, -3.49719264e-03,\n",
       "        -1.29828602e-02],\n",
       "       [-4.51597404e+01,  5.96196556e+00, -2.68929899e-02,\n",
       "         1.05998412e-01, -1.03976068e-04, -8.57299287e-03,\n",
       "        -1.39661264e-02],\n",
       "       [-4.51582680e+01,  5.96194124e+00, -3.51854749e-02,\n",
       "         1.88291922e-01, -2.44044626e-04, -2.00077165e-02,\n",
       "        -1.82748884e-02],\n",
       "       [-4.51559792e+01,  5.96191883e+00, -3.18547338e-03,\n",
       "         2.69369453e-01, -3.70468129e-04, -2.53739767e-03,\n",
       "        -1.65399723e-03],\n",
       "       [-4.51532097e+01,  5.96193647e+00,  2.88145281e-02,\n",
       "         2.84457207e-01, -2.61774927e-04,  2.48881690e-02,\n",
       "         1.49644185e-02],\n",
       "       [-4.51506729e+01,  5.96197367e+00,  2.78386530e-02,\n",
       "         2.23255470e-01, -4.38157876e-05,  1.88864619e-02,\n",
       "         1.44574167e-02],\n",
       "       [-4.51485481e+01,  5.96198702e+00, -4.16134857e-03,\n",
       "         2.01387316e-01,  3.40800252e-05, -2.47675367e-03,\n",
       "        -2.16070656e-03],\n",
       "       [-4.51461792e+01,  5.96196604e+00, -2.90390123e-02,\n",
       "         2.72078067e-01, -8.93821634e-05, -2.38703191e-02,\n",
       "        -1.50810434e-02],\n",
       "       [-4.51431351e+01,  5.96194220e+00, -1.28411315e-03,\n",
       "         3.36859524e-01, -2.24656251e-04, -1.24877319e-03,\n",
       "        -6.66748732e-04],\n",
       "       [-4.51394920e+01,  5.96193933e+00, -6.46753528e-04,\n",
       "         3.91940475e-01, -2.35221916e-04, -7.06444262e-04,\n",
       "        -3.35811725e-04],\n",
       "       [-4.51355171e+01,  5.96196795e+00,  2.90063582e-02,\n",
       "         4.03427750e-01, -6.35700708e-05,  3.55062000e-02,\n",
       "         1.50640821e-02],\n",
       "       [-4.51316986e+01,  5.96199751e+00,  2.34320760e-04,\n",
       "         3.59929681e-01,  1.08599867e-04,  3.16664577e-04,\n",
       "         1.21668912e-04],\n",
       "       [-4.51284370e+01,  5.96202469e+00,  3.22343223e-02,\n",
       "         2.92337656e-01,  2.63500609e-04,  2.86053121e-02,\n",
       "         1.67412907e-02],\n",
       "       [-4.51257286e+01,  5.96204901e+00,  2.34320760e-04,\n",
       "         2.49624878e-01,  4.00192803e-04,  2.38386914e-04,\n",
       "         1.21669844e-04],\n",
       "       [-4.51230545e+01,  5.96207333e+00,  3.22343223e-02,\n",
       "         2.85482109e-01,  5.34645747e-04,  2.79359315e-02,\n",
       "         1.67412926e-02],\n",
       "       [-4.51205750e+01,  5.96209669e+00,  2.34320760e-04,\n",
       "         2.10731477e-01,  6.62678387e-04,  2.10788101e-04,\n",
       "         1.21671706e-04],\n",
       "       [-4.51188240e+01,  5.96211147e+00,  3.22343223e-02,\n",
       "         1.39188856e-01,  7.42927718e-04,  1.36517501e-02,\n",
       "         1.67412944e-02],\n",
       "       [-4.51176224e+01,  5.96212912e+00,  2.03214996e-02,\n",
       "         1.00870073e-01,  8.39615648e-04,  6.26960350e-03,\n",
       "         1.05526149e-02],\n",
       "       [-4.51167450e+01,  5.96213198e+00, -1.16785020e-02,\n",
       "         7.43803605e-02,  8.53223668e-04, -2.56950641e-03,\n",
       "        -6.06403314e-03],\n",
       "       [-4.51164093e+01,  5.96212864e+00, -4.36785035e-02,\n",
       "        -1.12220719e-02,  8.30968667e-04,  1.34862075e-03,\n",
       "        -2.26897579e-02],\n",
       "       [-4.51162071e+01,  5.96212196e+00, -7.56785050e-02,\n",
       "         4.74493839e-02,  7.90762133e-04, -1.12213120e-02,\n",
       "        -3.93494703e-02],\n",
       "       [-4.51155968e+01,  5.96210098e+00, -6.11474440e-02,\n",
       "         7.48104453e-02,  6.64996332e-04, -1.41979335e-02,\n",
       "        -3.17785591e-02],\n",
       "       [-4.51147156e+01,  5.96208143e+00, -2.91474424e-02,\n",
       "         1.01473339e-01,  5.46583149e-04, -9.29279253e-03,\n",
       "        -1.51373763e-02],\n",
       "       [-4.51138039e+01,  5.96207523e+00,  2.85255909e-03,\n",
       "         8.10487717e-02,  5.08593279e-04,  3.66154127e-04,\n",
       "         1.48114376e-03],\n",
       "       [-4.51128464e+01,  5.96206856e+00, -2.91474424e-02,\n",
       "         1.10326797e-01,  4.68125567e-04, -1.00744376e-02,\n",
       "        -1.51373763e-02],\n",
       "       [-4.51113129e+01,  5.96203232e+00, -6.01480454e-02,\n",
       "         1.96636438e-01,  2.53743550e-04, -3.61783467e-02,\n",
       "        -3.12582478e-02],\n",
       "       [-4.51096497e+01,  5.96199369e+00, -2.81480439e-02,\n",
       "         1.36000246e-01,  2.63741822e-05, -1.19292494e-02,\n",
       "        -1.46181509e-02],\n",
       "       [-4.51081619e+01,  5.96198463e+00,  3.85195762e-03,\n",
       "         1.61582202e-01, -2.63041620e-05,  1.55092124e-03,\n",
       "         2.00006180e-03],\n",
       "       [-4.51061096e+01,  5.96197033e+00, -2.81480439e-02,\n",
       "         2.48591214e-01, -1.08789274e-04, -2.15286240e-02,\n",
       "        -1.46181528e-02],\n",
       "       [-4.51033287e+01,  5.96190500e+00, -6.01480454e-02,\n",
       "         3.07523429e-01, -4.85482364e-04, -5.63916378e-02,\n",
       "        -3.12582478e-02],\n",
       "       [-4.50997925e+01,  5.96176052e+00, -9.21480507e-02,\n",
       "         4.00251806e-01, -1.31008599e-03, -1.12219751e-01,\n",
       "        -4.79452163e-02],\n",
       "       [-4.50953941e+01,  5.96150255e+00, -1.24148056e-01,\n",
       "         4.81040001e-01, -2.76330253e-03, -1.81749195e-01,\n",
       "        -6.47042692e-02],\n",
       "       [-4.50902939e+01,  5.96119738e+00, -9.21480507e-02,\n",
       "         5.40643871e-01, -4.43555601e-03, -1.51464731e-01,\n",
       "        -4.79452163e-02],\n",
       "       [-4.50849495e+01,  5.96086788e+00, -1.24148056e-01,\n",
       "         5.30364811e-01, -6.19278755e-03, -2.00351119e-01,\n",
       "        -6.47042692e-02],\n",
       "       [-4.50797081e+01,  5.96053505e+00, -9.21480507e-02,\n",
       "         5.20189703e-01, -7.91810732e-03, -1.45747021e-01,\n",
       "        -4.79452163e-02],\n",
       "       [-4.50740547e+01,  5.96026325e+00, -6.01480491e-02,\n",
       "         6.12173915e-01, -9.21790581e-03, -1.11925587e-01,\n",
       "        -3.12582478e-02],\n",
       "       [-4.50681381e+01,  5.96006966e+00, -2.81480476e-02,\n",
       "         5.72081745e-01, -1.00131743e-02, -4.91090864e-02,\n",
       "        -1.46181509e-02],\n",
       "       [-4.50624542e+01,  5.95997572e+00,  3.85195389e-03,\n",
       "         5.64842165e-01, -1.02229128e-02,  6.25514239e-03,\n",
       "         2.00006180e-03],\n",
       "       [-4.50567589e+01,  5.95988131e+00, -2.81480476e-02,\n",
       "         5.74528217e-01, -1.04332985e-02, -4.93176728e-02,\n",
       "        -1.46181528e-02],\n",
       "       [-4.50511932e+01,  5.95978689e+00,  3.85195389e-03,\n",
       "         5.38823783e-01, -1.06409993e-02,  5.95162809e-03,\n",
       "         2.00005993e-03],\n",
       "       [-4.50457611e+01,  5.95978355e+00,  3.43014114e-02,\n",
       "         5.47772288e-01, -1.03263939e-02,  5.65822162e-02,\n",
       "         1.78154521e-02],\n",
       "       [-4.50398636e+01,  5.95977879e+00,  2.30140984e-03,\n",
       "         6.31766438e-01, -1.00062592e-02,  4.06919792e-03,\n",
       "         1.19496323e-03],\n",
       "       [-4.50339050e+01,  5.95976686e+00,  2.86691133e-02,\n",
       "         5.59851468e-01, -9.73160844e-03,  4.82821353e-02,\n",
       "         1.48888640e-02],\n",
       "       [-4.50287056e+01,  5.95978498e+00,  2.12189332e-02,\n",
       "         4.79811043e-01, -9.33736190e-03,  3.05017736e-02,\n",
       "         1.10187298e-02],\n",
       "       [-4.50243073e+01,  5.95975733e+00, -1.07810684e-02,\n",
       "         3.99528146e-01, -9.26138274e-03, -1.33789871e-02,\n",
       "        -5.59802074e-03],\n",
       "       [-4.50205116e+01,  5.95971632e+00,  5.09972684e-03,\n",
       "         3.59281301e-01, -9.29563586e-03,  5.21485321e-03,\n",
       "         2.64795311e-03],\n",
       "       [-4.50164795e+01,  5.95972443e+00,  3.69281396e-02,\n",
       "         4.47190821e-01, -9.03191697e-03,  4.96913865e-02,\n",
       "         1.91805959e-02],\n",
       "       [-4.50121727e+01,  5.95979786e+00,  6.25726879e-02,\n",
       "         4.14112717e-01, -8.38486850e-03,  7.82010853e-02,\n",
       "         3.25206667e-02],\n",
       "       [-4.50084305e+01,  5.95991993e+00,  9.45726931e-02,\n",
       "         3.34829569e-01, -7.49908434e-03,  9.57350880e-02,\n",
       "         4.92122099e-02],\n",
       "       [-4.50048256e+01,  5.96004105e+00,  6.25726879e-02,\n",
       "         3.86473596e-01, -6.64398633e-03,  7.29594156e-02,\n",
       "         3.25206667e-02],\n",
       "       [-4.50008698e+01,  5.96011162e+00,  3.05726863e-02,\n",
       "         4.04515594e-01, -6.08735578e-03,  3.71263586e-02,\n",
       "         1.58778932e-02],\n",
       "       [-4.49970932e+01,  5.96014929e+00,  3.08128409e-02,\n",
       "         3.51117879e-01, -5.73613402e-03,  3.24369445e-02,\n",
       "         1.60026737e-02],\n",
       "       [-4.49933014e+01,  5.96016455e+00,  6.72732107e-03,\n",
       "         4.07599866e-01, -5.52390190e-03,  7.97026418e-03,\n",
       "         3.49307247e-03],\n",
       "       [-4.49895172e+01,  5.96017361e+00,  2.41758898e-02,\n",
       "         3.49366397e-01, -5.34934551e-03,  2.52481084e-02,\n",
       "         1.25546549e-02],\n",
       "       [-4.49855995e+01,  5.96022511e+00,  4.55276482e-02,\n",
       "         4.34460640e-01, -4.93099308e-03,  5.95936254e-02,\n",
       "         2.36512944e-02],\n",
       "       [-4.49813805e+01,  5.96034050e+00,  7.75276497e-02,\n",
       "         4.09400851e-01, -4.14618803e-03,  9.59039778e-02,\n",
       "         4.03137356e-02],\n",
       "       [-4.49773216e+01,  5.96046782e+00,  5.74316904e-02,\n",
       "         4.02685851e-01, -3.31528904e-03,  6.97510019e-02,\n",
       "         2.98442692e-02],\n",
       "       [-4.49733849e+01,  5.96055984e+00,  4.40492928e-02,\n",
       "         3.85251105e-01, -2.70898896e-03,  5.10789752e-02,\n",
       "         2.28825603e-02],\n",
       "       [-4.49695969e+01,  5.96063995e+00,  4.66051102e-02,\n",
       "         3.72322857e-01, -2.18889187e-03,  5.22390455e-02,\n",
       "         2.42116135e-02],\n",
       "       [-4.49661102e+01,  5.96074629e+00,  7.86051154e-02,\n",
       "         3.25137168e-01, -1.53097953e-03,  7.71608651e-02,\n",
       "         4.08756882e-02],\n",
       "       [-4.49630585e+01,  5.96086550e+00,  7.60154054e-02,\n",
       "         2.85305709e-01, -8.15249514e-04,  6.54216334e-02,\n",
       "         3.95251438e-02],\n",
       "       [-4.49598160e+01,  5.96096420e+00,  4.40154038e-02,\n",
       "         3.63683105e-01, -2.31357233e-04,  4.81632724e-02,\n",
       "         2.28649378e-02],\n",
       "       [-4.49559975e+01,  5.96107912e+00,  7.11627007e-02,\n",
       "         4.00060087e-01,  4.37612354e-04,  8.59711990e-02,\n",
       "         3.69954780e-02],\n",
       "       [-4.49521217e+01,  5.96119356e+00,  3.91626991e-02,\n",
       "         3.75655293e-01,  1.08796055e-03,  4.42333370e-02,\n",
       "         2.03420762e-02],\n",
       "       [-4.49483223e+01,  5.96130800e+00,  7.11627007e-02,\n",
       "         3.84288102e-01,  1.72384980e-03,  8.25687051e-02,\n",
       "         3.69954780e-02],\n",
       "       [-4.49445724e+01,  5.96148586e+00,  1.03162706e-01,\n",
       "         3.66377234e-01,  2.71470658e-03,  1.14373498e-01,\n",
       "         5.37043959e-02],\n",
       "       [-4.49406395e+01,  5.96174479e+00,  1.35162711e-01,\n",
       "         4.21873838e-01,  4.14563809e-03,  1.72981858e-01,\n",
       "         7.04941526e-02],\n",
       "       [-4.49368095e+01,  5.96200275e+00,  1.03162706e-01,\n",
       "         3.46113622e-01,  5.54155186e-03,  1.08029246e-01,\n",
       "         5.37043959e-02],\n",
       "       [-4.49335365e+01,  5.96217155e+00,  7.11627007e-02,\n",
       "         3.09586108e-01,  6.41128980e-03,  6.64531887e-02,\n",
       "         3.69954780e-02],\n",
       "       [-4.49305725e+01,  5.96227694e+00,  3.91626991e-02,\n",
       "         2.83974469e-01,  6.90948358e-03,  3.33564170e-02,\n",
       "         2.03420762e-02],\n",
       "       [-4.49272575e+01,  5.96238375e+00,  5.68454117e-02,\n",
       "         3.78995061e-01,  7.39586633e-03,  6.49535283e-02,\n",
       "         2.95391306e-02],\n",
       "       [-4.49231110e+01,  5.96250248e+00,  2.48454101e-02,\n",
       "         4.50545907e-01,  7.90334493e-03,  3.35707739e-02,\n",
       "         1.29024461e-02],\n",
       "       [-4.49184380e+01,  5.96264029e+00,  5.68454117e-02,\n",
       "         4.84152079e-01,  8.48438870e-03,  8.30684006e-02,\n",
       "         2.95391325e-02],\n",
       "       [-4.49139519e+01,  5.96284962e+00,  8.88454169e-02,\n",
       "         4.13808763e-01,  9.47028026e-03,  1.11182258e-01,\n",
       "         4.62201014e-02],\n",
       "       [-4.49096336e+01,  5.96305609e+00,  5.68454154e-02,\n",
       "         4.50730294e-01,  1.04219727e-02,  7.73109943e-02,\n",
       "         2.95391325e-02],\n",
       "       [-4.49047089e+01,  5.96326065e+00,  6.09727167e-02,\n",
       "         5.34820974e-01,  1.13025894e-02,  9.84956473e-02,\n",
       "         3.16875950e-02],\n",
       "       [-4.48997726e+01,  5.96343470e+00,  2.89727151e-02,\n",
       "         4.52774733e-01,  1.19820731e-02,  3.94003466e-02,\n",
       "         1.50466021e-02],\n",
       "       [-4.48950386e+01,  5.96352339e+00, -3.02728638e-03,\n",
       "         4.93960321e-01,  1.21647362e-02, -4.86271083e-03,\n",
       "        -1.57186203e-03],\n",
       "       [-4.48899231e+01,  5.96362114e+00,  2.89727151e-02,\n",
       "         5.29615164e-01,  1.23687014e-02,  4.61436696e-02,\n",
       "         1.50466021e-02],\n",
       "       [-4.48846664e+01,  5.96373796e+00,  8.27989168e-03,\n",
       "         5.21949232e-01,  1.26657179e-02,  1.27541944e-02,\n",
       "         4.29924857e-03],\n",
       "       [-4.48791809e+01,  5.96378469e+00, -2.37201098e-02,\n",
       "         5.75007021e-01,  1.25331897e-02, -4.16446440e-02,\n",
       "        -1.23178968e-02],\n",
       "       [-4.48731117e+01,  5.96383667e+00,  8.27989168e-03,\n",
       "         6.38842523e-01,  1.23964371e-02,  1.56853758e-02,\n",
       "         4.29924671e-03],\n",
       "       [-4.48667831e+01,  5.96388960e+00, -2.37201098e-02,\n",
       "         6.27215683e-01,  1.22493636e-02, -4.53955010e-02,\n",
       "        -1.23178987e-02],\n",
       "       [-4.48601532e+01,  5.96394444e+00,  8.27989168e-03,\n",
       "         6.99138820e-01,  1.21001117e-02,  1.71973482e-02,\n",
       "         4.29924484e-03],\n",
       "       [-4.48531799e+01,  5.96411800e+00,  4.02798951e-02,\n",
       "         6.95736766e-01,  1.26127554e-02,  8.45636651e-02,\n",
       "         2.09228247e-02],\n",
       "       [-4.48464890e+01,  5.96430111e+00,  1.50378160e-02,\n",
       "         6.43169284e-01,  1.31769693e-02,  2.89581642e-02,\n",
       "         7.80852791e-03],\n",
       "       [-4.48397293e+01,  5.96438599e+00, -1.69621855e-02,\n",
       "         7.08707571e-01,  1.31519791e-02, -3.67420539e-02,\n",
       "        -8.80790781e-03],\n",
       "       [-4.48330803e+01,  5.96442699e+00, -9.25561041e-03,\n",
       "         6.21332288e-01,  1.28862578e-02, -1.77505054e-02,\n",
       "        -4.80589923e-03],\n",
       "       [-4.48265991e+01,  5.96442366e+00, -4.12556119e-02,\n",
       "         6.74701631e-01,  1.23862168e-02, -8.46606344e-02,\n",
       "        -2.14300640e-02],\n",
       "       [-4.48197250e+01,  5.96441698e+00, -9.25561041e-03,\n",
       "         7.00499892e-01,  1.18622910e-02, -1.99696198e-02,\n",
       "        -4.80589829e-03],\n",
       "       [-4.48123627e+01,  5.96453142e+00,  2.27443911e-02,\n",
       "         7.71843195e-01,  1.20184263e-02,  5.28364778e-02,\n",
       "         1.18110757e-02],\n",
       "       [-4.48048897e+01,  5.96473932e+00,  3.70676443e-02,\n",
       "         7.23451316e-01,  1.26939435e-02,  8.09014291e-02,\n",
       "         1.92531031e-02],\n",
       "       [-4.47972984e+01,  5.96492004e+00,  5.06764278e-03,\n",
       "         7.95047164e-01,  1.31726488e-02,  1.18677542e-02,\n",
       "         2.63129175e-03],\n",
       "       [-4.47889748e+01,  5.96498060e+00, -2.69323587e-02,\n",
       "         8.69575679e-01,  1.28910448e-02, -7.12701380e-02,\n",
       "        -1.39865838e-02],\n",
       "       [-4.47798119e+01,  5.96504593e+00,  5.06764278e-03,\n",
       "         9.62968588e-01,  1.25952037e-02,  1.44448951e-02,\n",
       "         2.63128988e-03],\n",
       "       [-4.47701950e+01,  5.96525383e+00,  2.90439408e-02,\n",
       "         9.60707963e-01,  1.30919274e-02,  8.41826722e-02,\n",
       "         1.50836036e-02],\n",
       "       [-4.47607460e+01,  5.96546221e+00,  4.16736491e-03,\n",
       "         9.29239690e-01,  1.35691687e-02,  1.13936812e-02,\n",
       "         2.16382928e-03]], dtype=float32)"
      ]
     },
     "execution_count": 22,
     "metadata": {},
     "output_type": "execute_result"
    }
   ],
   "source": [
    "all_env_states.cartesian_states[:, 100, 0, :]"
   ]
  },
  {
   "cell_type": "code",
   "execution_count": 23,
   "metadata": {},
   "outputs": [
    {
     "data": {
      "image/png": "[encoded data removed]",
      "text/plain": [
       "<Figure size 640x480 with 1 Axes>"
      ]
     },
     "metadata": {},
     "output_type": "display_data"
    }
   ],
   "source": [
    "import matplotlib.pyplot as plt\n",
    "for i in range(num_agents):\n",
    "    plt.plot(all_env_states.cartesian_states[:, 100, i, 0], all_env_states.cartesian_states[:, 100, i, 1], 'o')"
   ]
  },
  {
   "cell_type": "code",
   "execution_count": 24,
   "metadata": {},
   "outputs": [
    {
     "data": {
      "text/plain": [
       "(100, 100, 10, 64)"
      ]
     },
     "execution_count": 24,
     "metadata": {},
     "output_type": "execute_result"
    }
   ],
   "source": [
    "all_env_states.scans.shape"
   ]
  },
  {
   "cell_type": "code",
   "execution_count": 39,
   "metadata": {},
   "outputs": [],
   "source": [
    "scan = all_env_states.scans[0, 0, 0, :]\n",
    "scan_angles = jnp.linspace(-env.fov/2, env.fov/2, num=scan.shape[0], endpoint=True)"
   ]
  },
  {
   "cell_type": "code",
   "execution_count": 42,
   "metadata": {},
   "outputs": [
    {
     "data": {
      "image/png": "[encoded data removed]",
      "text/plain": [
       "<Figure size 640x480 with 1 Axes>"
      ]
     },
     "metadata": {},
     "output_type": "display_data"
    }
   ],
   "source": [
    "fig, ax = plt.subplots(subplot_kw={'projection': 'polar'})\n",
    "ax.plot(scan_angles, scan)\n",
    "ax.set_title('LiDAR Scan')\n",
    "plt.show()"
   ]
  },
  {
   "cell_type": "code",
   "execution_count": 44,
   "metadata": {},
   "outputs": [
    {
     "data": {
      "text/plain": [
       "(100, 107)"
      ]
     },
     "execution_count": 44,
     "metadata": {},
     "output_type": "execute_result"
    }
   ],
   "source": [
    "runner_state[1][\"agent_0\"].shape"
   ]
  },
  {
   "cell_type": "code",
   "execution_count": 46,
   "metadata": {},
   "outputs": [
    {
     "data": {
      "text/plain": [
       "(100, 3)"
      ]
     },
     "execution_count": 46,
     "metadata": {},
     "output_type": "execute_result"
    }
   ],
   "source": [
    "runner_state[1][\"agent_0\"][:, [0, 1, 4]].shape"
   ]
  },
  {
   "cell_type": "code",
   "execution_count": 56,
   "metadata": {},
   "outputs": [
    {
     "data": {
      "text/plain": [
       "(1692, 2)"
      ]
     },
     "execution_count": 56,
     "metadata": {},
     "output_type": "execute_result"
    }
   ],
   "source": [
    "jnp.vstack((env.track.raceline.xs, env.track.raceline.ys)).T.shape"
   ]
  },
  {
   "cell_type": "code",
   "execution_count": null,
   "metadata": {},
   "outputs": [],
   "source": []
  }
 ],
 "metadata": {
  "kernelspec": {
   "display_name": "f1tenth-gym-jax-3S11c-Oo-py3.13",
   "language": "python",
   "name": "python3"
  },
  "language_info": {
   "codemirror_mode": {
    "name": "ipython",
    "version": 3
   },
   "file_extension": ".py",
   "mimetype": "text/x-python",
   "name": "python",
   "nbconvert_exporter": "python",
   "pygments_lexer": "ipython3",
   "version": "3.13.5"
  }
 },
 "nbformat": 4,
 "nbformat_minor": 2
}
