{
 "cells": [
  {
   "cell_type": "code",
   "execution_count": 1,
   "metadata": {},
   "outputs": [],
   "source": [
    "import os\n",
    "os.environ[\"XLA_PYTHON_CLIENT_PREALLOCATE\"] = \"false\"\n",
    "\n",
    "from f1tenth_gym_jax import make\n",
    "import jax\n",
    "import jax.numpy as jnp\n",
    "\n",
    "# jax.config.update(\"jax_debug_nans\", True)\n",
    "\n",
    "from f1tenth_gym_jax.envs.utils import Param"
   ]
  },
  {
   "cell_type": "code",
   "execution_count": 2,
   "metadata": {},
   "outputs": [],
   "source": [
    "num_agents = 10\n",
    "num_envs = 100"
   ]
  },
  {
   "cell_type": "code",
   "execution_count": 53,
   "metadata": {},
   "outputs": [],
   "source": [
    "env = make(\"default_v0\", num_agents=num_agents, params=Param(produce_scans=False))"
   ]
  },
  {
   "cell_type": "code",
   "execution_count": 54,
   "metadata": {},
   "outputs": [],
   "source": [
    "rng = jax.random.PRNGKey(0)\n",
    "rng, _rng = jax.random.split(rng)\n",
    "reset_rng = jax.random.split(_rng, num_envs)"
   ]
  },
  {
   "cell_type": "code",
   "execution_count": 55,
   "metadata": {},
   "outputs": [],
   "source": [
    "obsv, env_state = jax.vmap(env.reset)(reset_rng)"
   ]
  },
  {
   "cell_type": "code",
   "execution_count": 56,
   "metadata": {},
   "outputs": [],
   "source": [
    "rng, _rng = jax.random.split(rng)\n",
    "action_rng = jax.random.split(_rng, num_envs*num_agents).reshape((num_agents, num_envs, -1))\n",
    "actions = {k: jax.vmap(env.action_space(k).sample)(action_rng[i]) for i, k in enumerate(env.agents)}"
   ]
  },
  {
   "cell_type": "code",
   "execution_count": 57,
   "metadata": {},
   "outputs": [],
   "source": [
    "rng, _rng = jax.random.split(rng)\n",
    "step_rng = jax.random.split(_rng, num_envs)\n",
    "obsv, env_state, _, _, info = jax.vmap(env.step)(step_rng, env_state, actions)"
   ]
  },
  {
   "cell_type": "code",
   "execution_count": 58,
   "metadata": {},
   "outputs": [],
   "source": [
    "def env_init(rng):\n",
    "    rng, _rng = jax.random.split(rng)\n",
    "    reset_rng = jax.random.split(_rng, num_envs)\n",
    "    obsv, env_state = jax.vmap(env.reset)(reset_rng)\n",
    "    return (env_state, obsv, rng)"
   ]
  },
  {
   "cell_type": "code",
   "execution_count": 59,
   "metadata": {},
   "outputs": [],
   "source": [
    "def env_step(runner_state, unused):\n",
    "    env_state, last_obs, rng = runner_state\n",
    "\n",
    "    rng, _rng = jax.random.split(rng)\n",
    "    action_rng = jax.random.split(_rng, num_envs*num_agents).reshape((num_agents, num_envs, -1))\n",
    "    actions = {k: jax.vmap(env.action_space(k).sample)(action_rng[i]) for i, k in enumerate(env.agents)}\n",
    "\n",
    "    rng, _rng = jax.random.split(rng)\n",
    "    step_rng = jax.random.split(_rng, num_envs)\n",
    "    obsv, env_state, _, _, info = jax.vmap(env.step)(step_rng, env_state, actions)\n",
    "\n",
    "    runner_state = (env_state, obsv, rng)\n",
    "    return runner_state, None"
   ]
  },
  {
   "cell_type": "code",
   "execution_count": 60,
   "metadata": {},
   "outputs": [],
   "source": [
    "import time"
   ]
  },
  {
   "cell_type": "code",
   "execution_count": 64,
   "metadata": {},
   "outputs": [],
   "source": [
    "tick = time.time()\n",
    "for _ in range(100):\n",
    "    runner_state = env_init(rng)\n",
    "    runner_state = jax.lax.scan(env_step, runner_state, None, length=100)\n",
    "tock = time.time()"
   ]
  },
  {
   "cell_type": "code",
   "execution_count": 65,
   "metadata": {},
   "outputs": [],
   "source": [
    "sps = 100 * 100 * num_envs / (tock - tick)"
   ]
  },
  {
   "cell_type": "code",
   "execution_count": 66,
   "metadata": {},
   "outputs": [
    {
     "data": {
      "text/plain": [
       "272757.36407763645"
      ]
     },
     "execution_count": 66,
     "metadata": {},
     "output_type": "execute_result"
    }
   ],
   "source": [
    "sps"
   ]
  },
  {
   "cell_type": "code",
   "execution_count": null,
   "metadata": {},
   "outputs": [],
   "source": []
  }
 ],
 "metadata": {
  "kernelspec": {
   "display_name": "venv",
   "language": "python",
   "name": "python3"
  },
  "language_info": {
   "codemirror_mode": {
    "name": "ipython",
    "version": 3
   },
   "file_extension": ".py",
   "mimetype": "text/x-python",
   "name": "python",
   "nbconvert_exporter": "python",
   "pygments_lexer": "ipython3",
   "version": "3.10.12"
  }
 },
 "nbformat": 4,
 "nbformat_minor": 2
}
